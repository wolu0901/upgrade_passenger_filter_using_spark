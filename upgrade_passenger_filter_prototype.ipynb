{
    "cells": [
        {
            "metadata": {},
            "cell_type": "code",
            "source": "from IPython.display import Markdown, display\ndef printmd(string):\n    display(Markdown('# <span style=\"color:red\">'+string+'</span>'))\n\n\nif ('sc' in locals() or 'sc' in globals()):\n    printmd('<<<<<!!!!! It seems that you are running in a IBM Watson Studio Apache Spark Notebook. Please run it in an IBM Watson Studio Default Runtime (without Apache Spark) !!!!!>>>>>')\n",
            "execution_count": 1,
            "outputs": []
        },
        {
            "metadata": {},
            "cell_type": "code",
            "source": "!pip install pyspark==2.4.5",
            "execution_count": 2,
            "outputs": [
                {
                    "output_type": "stream",
                    "text": "Requirement already satisfied: pyspark==2.4.5 in /opt/conda/envs/Python36/lib/python3.6/site-packages (2.4.5)\r\nRequirement already satisfied: py4j==0.10.7 in /opt/conda/envs/Python36/lib/python3.6/site-packages (from pyspark==2.4.5) (0.10.7)\r\n",
                    "name": "stdout"
                }
            ]
        },
        {
            "metadata": {},
            "cell_type": "code",
            "source": "try:\n    from pyspark import SparkContext, SparkConf\n    from pyspark.sql import SparkSession\nexcept ImportError as e:\n    printmd('<<<<<!!!!! Please restart your kernel after installing Apache Spark !!!!!>>>>>')",
            "execution_count": 3,
            "outputs": []
        },
        {
            "metadata": {},
            "cell_type": "code",
            "source": "sc = SparkContext.getOrCreate(SparkConf().setMaster(\"local[*]\"))\n\nspark = SparkSession \\\n    .builder \\\n    .getOrCreate()",
            "execution_count": 4,
            "outputs": []
        },
        {
            "metadata": {},
            "cell_type": "code",
            "source": "# # # delete files from previous runs\n# # !rm -f hmp.parquet*\n\n# # # download the file containing the data in PARQUET format\n# # !wget https://github.com/IBM/coursera/raw/master/hmp.parquet\n    \n# # # create a dataframe out of it\n# df = spark.read.parquet('hmp.parquet')\n\n# # # register a corresponding query table\n# df.createOrReplaceTempView('df')",
            "execution_count": 5,
            "outputs": []
        },
        {
            "metadata": {},
            "cell_type": "code",
            "source": "import types\nimport pandas as pd\nfrom botocore.client import Config\nimport ibm_boto3\n\ndef __iter__(self): return 0\n\n# @hidden_cell\n# The following code accesses a file in your IBM Cloud Object Storage. It includes your credentials.\n# You might want to remove those credentials before you share the notebook.\nclient_595093338e2d4ab7a7085b8760a38b76 = ibm_boto3.client(service_name='s3',\n    ibm_api_key_id='vd_stNEvN1tO807jVnQHv3pCMeG3Sufph7IZgKC_0cO7',\n    ibm_auth_endpoint=\"https://iam.cloud.ibm.com/oidc/token\",\n    config=Config(signature_version='oauth'),\n    endpoint_url='https://s3-api.us-geo.objectstorage.service.networklayer.com')\n\nbody = client_595093338e2d4ab7a7085b8760a38b76.get_object(Bucket='data-donotdelete-pr-hwh86nvna39yrx',Key='wts-sample.csv')['Body']\n# add missing __iter__ method, so pandas accepts body as file-like object\nif not hasattr(body, \"__iter__\"): body.__iter__ = types.MethodType( __iter__, body )\ndf = pd.read_csv(body,encoding = 'gbk')\ndf.head()",
            "execution_count": 6,
            "outputs": [
                {
                    "output_type": "execute_result",
                    "execution_count": 6,
                    "data": {
                        "text/plain": "         ID Market_Carrier MC_Flight_Number Operating_Carrier  \\\n0  76824303             DL              026                DL   \n1   8408934             DL             5755                DL   \n2   1403748             CZ              330                CZ   \n3   6399303             CZ              328                CZ   \n4   2945829             DL              189                DL   \n\n  OC_Booking_Class OC_Ticketing_Designator OC_Flight_Number  \\\n0                Y                       L              026   \n1                Y                       V             5755   \n2                Y                       Q              330   \n3                Y                       E              328   \n4                Y                       L              189   \n\n  OC_Booking_Class_Actual OC_Ticketing_Designator_Actual      OD  ...  \\\n0                       Y                              L  CANATL  ...   \n1                       Y                              V  CANPHX  ...   \n2                       Y                              Q  YVRCAN  ...   \n3                       Y                              E  LAXDAC  ...   \n4                       Y                              L  DTWURC  ...   \n\n  Agency_Country   Ticket_ID Number_of_Adult Number_of_Child     Fare  \\\n0             US  1006189172               1               0  3472.01   \n1             US   740889159               1               0   446.11   \n2             CN   547831618               1               0  2850.00   \n3             BD   695529016               1               0  1635.67   \n4             US   594622312               1               0  5839.93   \n\n  Airport_Tax     Fuel Handling_Fee Number_of_Infant IsIntlTransfer  \n0         0.0     0.00       312.48                0            NaN  \n1         0.0     0.00        24.21                0          False  \n2         0.0  1000.00        85.50                0          False  \n3         0.0   409.99        17.53                0           True  \n4         0.0   997.61         0.00                0          False  \n\n[5 rows x 47 columns]",
                        "text/html": "<div>\n<style scoped>\n    .dataframe tbody tr th:only-of-type {\n        vertical-align: middle;\n    }\n\n    .dataframe tbody tr th {\n        vertical-align: top;\n    }\n\n    .dataframe thead th {\n        text-align: right;\n    }\n</style>\n<table border=\"1\" class=\"dataframe\">\n  <thead>\n    <tr style=\"text-align: right;\">\n      <th></th>\n      <th>ID</th>\n      <th>Market_Carrier</th>\n      <th>MC_Flight_Number</th>\n      <th>Operating_Carrier</th>\n      <th>OC_Booking_Class</th>\n      <th>OC_Ticketing_Designator</th>\n      <th>OC_Flight_Number</th>\n      <th>OC_Booking_Class_Actual</th>\n      <th>OC_Ticketing_Designator_Actual</th>\n      <th>OD</th>\n      <th>...</th>\n      <th>Agency_Country</th>\n      <th>Ticket_ID</th>\n      <th>Number_of_Adult</th>\n      <th>Number_of_Child</th>\n      <th>Fare</th>\n      <th>Airport_Tax</th>\n      <th>Fuel</th>\n      <th>Handling_Fee</th>\n      <th>Number_of_Infant</th>\n      <th>IsIntlTransfer</th>\n    </tr>\n  </thead>\n  <tbody>\n    <tr>\n      <th>0</th>\n      <td>76824303</td>\n      <td>DL</td>\n      <td>026</td>\n      <td>DL</td>\n      <td>Y</td>\n      <td>L</td>\n      <td>026</td>\n      <td>Y</td>\n      <td>L</td>\n      <td>CANATL</td>\n      <td>...</td>\n      <td>US</td>\n      <td>1006189172</td>\n      <td>1</td>\n      <td>0</td>\n      <td>3472.01</td>\n      <td>0.0</td>\n      <td>0.00</td>\n      <td>312.48</td>\n      <td>0</td>\n      <td>NaN</td>\n    </tr>\n    <tr>\n      <th>1</th>\n      <td>8408934</td>\n      <td>DL</td>\n      <td>5755</td>\n      <td>DL</td>\n      <td>Y</td>\n      <td>V</td>\n      <td>5755</td>\n      <td>Y</td>\n      <td>V</td>\n      <td>CANPHX</td>\n      <td>...</td>\n      <td>US</td>\n      <td>740889159</td>\n      <td>1</td>\n      <td>0</td>\n      <td>446.11</td>\n      <td>0.0</td>\n      <td>0.00</td>\n      <td>24.21</td>\n      <td>0</td>\n      <td>False</td>\n    </tr>\n    <tr>\n      <th>2</th>\n      <td>1403748</td>\n      <td>CZ</td>\n      <td>330</td>\n      <td>CZ</td>\n      <td>Y</td>\n      <td>Q</td>\n      <td>330</td>\n      <td>Y</td>\n      <td>Q</td>\n      <td>YVRCAN</td>\n      <td>...</td>\n      <td>CN</td>\n      <td>547831618</td>\n      <td>1</td>\n      <td>0</td>\n      <td>2850.00</td>\n      <td>0.0</td>\n      <td>1000.00</td>\n      <td>85.50</td>\n      <td>0</td>\n      <td>False</td>\n    </tr>\n    <tr>\n      <th>3</th>\n      <td>6399303</td>\n      <td>CZ</td>\n      <td>328</td>\n      <td>CZ</td>\n      <td>Y</td>\n      <td>E</td>\n      <td>328</td>\n      <td>Y</td>\n      <td>E</td>\n      <td>LAXDAC</td>\n      <td>...</td>\n      <td>BD</td>\n      <td>695529016</td>\n      <td>1</td>\n      <td>0</td>\n      <td>1635.67</td>\n      <td>0.0</td>\n      <td>409.99</td>\n      <td>17.53</td>\n      <td>0</td>\n      <td>True</td>\n    </tr>\n    <tr>\n      <th>4</th>\n      <td>2945829</td>\n      <td>DL</td>\n      <td>189</td>\n      <td>DL</td>\n      <td>Y</td>\n      <td>L</td>\n      <td>189</td>\n      <td>Y</td>\n      <td>L</td>\n      <td>DTWURC</td>\n      <td>...</td>\n      <td>US</td>\n      <td>594622312</td>\n      <td>1</td>\n      <td>0</td>\n      <td>5839.93</td>\n      <td>0.0</td>\n      <td>997.61</td>\n      <td>0.00</td>\n      <td>0</td>\n      <td>False</td>\n    </tr>\n  </tbody>\n</table>\n<p>5 rows \u00d7 47 columns</p>\n</div>"
                    },
                    "metadata": {}
                }
            ]
        },
        {
            "metadata": {},
            "cell_type": "code",
            "source": "df.head()",
            "execution_count": 7,
            "outputs": [
                {
                    "output_type": "execute_result",
                    "execution_count": 7,
                    "data": {
                        "text/plain": "         ID Market_Carrier MC_Flight_Number Operating_Carrier  \\\n0  76824303             DL              026                DL   \n1   8408934             DL             5755                DL   \n2   1403748             CZ              330                CZ   \n3   6399303             CZ              328                CZ   \n4   2945829             DL              189                DL   \n\n  OC_Booking_Class OC_Ticketing_Designator OC_Flight_Number  \\\n0                Y                       L              026   \n1                Y                       V             5755   \n2                Y                       Q              330   \n3                Y                       E              328   \n4                Y                       L              189   \n\n  OC_Booking_Class_Actual OC_Ticketing_Designator_Actual      OD  ...  \\\n0                       Y                              L  CANATL  ...   \n1                       Y                              V  CANPHX  ...   \n2                       Y                              Q  YVRCAN  ...   \n3                       Y                              E  LAXDAC  ...   \n4                       Y                              L  DTWURC  ...   \n\n  Agency_Country   Ticket_ID Number_of_Adult Number_of_Child     Fare  \\\n0             US  1006189172               1               0  3472.01   \n1             US   740889159               1               0   446.11   \n2             CN   547831618               1               0  2850.00   \n3             BD   695529016               1               0  1635.67   \n4             US   594622312               1               0  5839.93   \n\n  Airport_Tax     Fuel Handling_Fee Number_of_Infant IsIntlTransfer  \n0         0.0     0.00       312.48                0            NaN  \n1         0.0     0.00        24.21                0          False  \n2         0.0  1000.00        85.50                0          False  \n3         0.0   409.99        17.53                0           True  \n4         0.0   997.61         0.00                0          False  \n\n[5 rows x 47 columns]",
                        "text/html": "<div>\n<style scoped>\n    .dataframe tbody tr th:only-of-type {\n        vertical-align: middle;\n    }\n\n    .dataframe tbody tr th {\n        vertical-align: top;\n    }\n\n    .dataframe thead th {\n        text-align: right;\n    }\n</style>\n<table border=\"1\" class=\"dataframe\">\n  <thead>\n    <tr style=\"text-align: right;\">\n      <th></th>\n      <th>ID</th>\n      <th>Market_Carrier</th>\n      <th>MC_Flight_Number</th>\n      <th>Operating_Carrier</th>\n      <th>OC_Booking_Class</th>\n      <th>OC_Ticketing_Designator</th>\n      <th>OC_Flight_Number</th>\n      <th>OC_Booking_Class_Actual</th>\n      <th>OC_Ticketing_Designator_Actual</th>\n      <th>OD</th>\n      <th>...</th>\n      <th>Agency_Country</th>\n      <th>Ticket_ID</th>\n      <th>Number_of_Adult</th>\n      <th>Number_of_Child</th>\n      <th>Fare</th>\n      <th>Airport_Tax</th>\n      <th>Fuel</th>\n      <th>Handling_Fee</th>\n      <th>Number_of_Infant</th>\n      <th>IsIntlTransfer</th>\n    </tr>\n  </thead>\n  <tbody>\n    <tr>\n      <th>0</th>\n      <td>76824303</td>\n      <td>DL</td>\n      <td>026</td>\n      <td>DL</td>\n      <td>Y</td>\n      <td>L</td>\n      <td>026</td>\n      <td>Y</td>\n      <td>L</td>\n      <td>CANATL</td>\n      <td>...</td>\n      <td>US</td>\n      <td>1006189172</td>\n      <td>1</td>\n      <td>0</td>\n      <td>3472.01</td>\n      <td>0.0</td>\n      <td>0.00</td>\n      <td>312.48</td>\n      <td>0</td>\n      <td>NaN</td>\n    </tr>\n    <tr>\n      <th>1</th>\n      <td>8408934</td>\n      <td>DL</td>\n      <td>5755</td>\n      <td>DL</td>\n      <td>Y</td>\n      <td>V</td>\n      <td>5755</td>\n      <td>Y</td>\n      <td>V</td>\n      <td>CANPHX</td>\n      <td>...</td>\n      <td>US</td>\n      <td>740889159</td>\n      <td>1</td>\n      <td>0</td>\n      <td>446.11</td>\n      <td>0.0</td>\n      <td>0.00</td>\n      <td>24.21</td>\n      <td>0</td>\n      <td>False</td>\n    </tr>\n    <tr>\n      <th>2</th>\n      <td>1403748</td>\n      <td>CZ</td>\n      <td>330</td>\n      <td>CZ</td>\n      <td>Y</td>\n      <td>Q</td>\n      <td>330</td>\n      <td>Y</td>\n      <td>Q</td>\n      <td>YVRCAN</td>\n      <td>...</td>\n      <td>CN</td>\n      <td>547831618</td>\n      <td>1</td>\n      <td>0</td>\n      <td>2850.00</td>\n      <td>0.0</td>\n      <td>1000.00</td>\n      <td>85.50</td>\n      <td>0</td>\n      <td>False</td>\n    </tr>\n    <tr>\n      <th>3</th>\n      <td>6399303</td>\n      <td>CZ</td>\n      <td>328</td>\n      <td>CZ</td>\n      <td>Y</td>\n      <td>E</td>\n      <td>328</td>\n      <td>Y</td>\n      <td>E</td>\n      <td>LAXDAC</td>\n      <td>...</td>\n      <td>BD</td>\n      <td>695529016</td>\n      <td>1</td>\n      <td>0</td>\n      <td>1635.67</td>\n      <td>0.0</td>\n      <td>409.99</td>\n      <td>17.53</td>\n      <td>0</td>\n      <td>True</td>\n    </tr>\n    <tr>\n      <th>4</th>\n      <td>2945829</td>\n      <td>DL</td>\n      <td>189</td>\n      <td>DL</td>\n      <td>Y</td>\n      <td>L</td>\n      <td>189</td>\n      <td>Y</td>\n      <td>L</td>\n      <td>DTWURC</td>\n      <td>...</td>\n      <td>US</td>\n      <td>594622312</td>\n      <td>1</td>\n      <td>0</td>\n      <td>5839.93</td>\n      <td>0.0</td>\n      <td>997.61</td>\n      <td>0.00</td>\n      <td>0</td>\n      <td>False</td>\n    </tr>\n  </tbody>\n</table>\n<p>5 rows \u00d7 47 columns</p>\n</div>"
                    },
                    "metadata": {}
                }
            ]
        },
        {
            "metadata": {},
            "cell_type": "code",
            "source": "df.columns",
            "execution_count": 8,
            "outputs": [
                {
                    "output_type": "execute_result",
                    "execution_count": 8,
                    "data": {
                        "text/plain": "Index(['ID', 'Market_Carrier', 'MC_Flight_Number', 'Operating_Carrier',\n       'OC_Booking_Class', 'OC_Ticketing_Designator', 'OC_Flight_Number',\n       'OC_Booking_Class_Actual', 'OC_Ticketing_Designator_Actual', 'OD',\n       'OD_Transfer_Type', 'IsFFP', 'Purchase_Date', 'GDS', 'Corporate_Number',\n       'Agency_Number', 'Ticket_Number', 'Point_of_Sales', 'Routing',\n       'Routing_Flight_Number', 'Segment', 'Segment_Type', 'Point_of_Origin',\n       'Ticket_Status', 'Passenger_Nationality', 'Passenger_Birthday',\n       'Passenger_Gender', 'Passenger_Name', 'Passenger_Status', 'Tour_Code',\n       'Fare_Basis', 'Number_of_Tickets', 'Flight_Date', 'OD_Transfer_Time',\n       'Ticket_Number_Previous', 'Traveling_Days', 'Agency_City',\n       'Agency_Country', 'Ticket_ID', 'Number_of_Adult', 'Number_of_Child',\n       'Fare', 'Airport_Tax', 'Fuel', 'Handling_Fee', 'Number_of_Infant',\n       'IsIntlTransfer'],\n      dtype='object')"
                    },
                    "metadata": {}
                }
            ]
        },
        {
            "metadata": {},
            "cell_type": "code",
            "source": "col = ['IsFFP','Operating_Carrier','Fare','Fuel','OC_Booking_Class_Actual','Passenger_Name']",
            "execution_count": 9,
            "outputs": []
        },
        {
            "metadata": {},
            "cell_type": "code",
            "source": "df[col].head(5)",
            "execution_count": 10,
            "outputs": [
                {
                    "output_type": "execute_result",
                    "execution_count": 10,
                    "data": {
                        "text/plain": "   IsFFP Operating_Carrier     Fare     Fuel OC_Booking_Class_Actual  \\\n0      0                DL  3472.01     0.00                       Y   \n1      0                DL   446.11     0.00                       Y   \n2      0                CZ  2850.00  1000.00                       Y   \n3      0                CZ  1635.67   409.99                       Y   \n4      0                DL  5839.93   997.61                       Y   \n\n          Passenger_Name  \n0  CHINERYJEFFREYDOUGLAS  \n1               YANCHENG  \n2             ZHUHOUYUAN  \n3      MONDALSAIFULISLAM  \n4        WANSOMMONTAKARN  ",
                        "text/html": "<div>\n<style scoped>\n    .dataframe tbody tr th:only-of-type {\n        vertical-align: middle;\n    }\n\n    .dataframe tbody tr th {\n        vertical-align: top;\n    }\n\n    .dataframe thead th {\n        text-align: right;\n    }\n</style>\n<table border=\"1\" class=\"dataframe\">\n  <thead>\n    <tr style=\"text-align: right;\">\n      <th></th>\n      <th>IsFFP</th>\n      <th>Operating_Carrier</th>\n      <th>Fare</th>\n      <th>Fuel</th>\n      <th>OC_Booking_Class_Actual</th>\n      <th>Passenger_Name</th>\n    </tr>\n  </thead>\n  <tbody>\n    <tr>\n      <th>0</th>\n      <td>0</td>\n      <td>DL</td>\n      <td>3472.01</td>\n      <td>0.00</td>\n      <td>Y</td>\n      <td>CHINERYJEFFREYDOUGLAS</td>\n    </tr>\n    <tr>\n      <th>1</th>\n      <td>0</td>\n      <td>DL</td>\n      <td>446.11</td>\n      <td>0.00</td>\n      <td>Y</td>\n      <td>YANCHENG</td>\n    </tr>\n    <tr>\n      <th>2</th>\n      <td>0</td>\n      <td>CZ</td>\n      <td>2850.00</td>\n      <td>1000.00</td>\n      <td>Y</td>\n      <td>ZHUHOUYUAN</td>\n    </tr>\n    <tr>\n      <th>3</th>\n      <td>0</td>\n      <td>CZ</td>\n      <td>1635.67</td>\n      <td>409.99</td>\n      <td>Y</td>\n      <td>MONDALSAIFULISLAM</td>\n    </tr>\n    <tr>\n      <th>4</th>\n      <td>0</td>\n      <td>DL</td>\n      <td>5839.93</td>\n      <td>997.61</td>\n      <td>Y</td>\n      <td>WANSOMMONTAKARN</td>\n    </tr>\n  </tbody>\n</table>\n</div>"
                    },
                    "metadata": {}
                }
            ]
        },
        {
            "metadata": {},
            "cell_type": "code",
            "source": "df_col = df[col]",
            "execution_count": 11,
            "outputs": []
        },
        {
            "metadata": {},
            "cell_type": "code",
            "source": "df_col.head(3)",
            "execution_count": 12,
            "outputs": [
                {
                    "output_type": "execute_result",
                    "execution_count": 12,
                    "data": {
                        "text/plain": "   IsFFP Operating_Carrier     Fare    Fuel OC_Booking_Class_Actual  \\\n0      0                DL  3472.01     0.0                       Y   \n1      0                DL   446.11     0.0                       Y   \n2      0                CZ  2850.00  1000.0                       Y   \n\n          Passenger_Name  \n0  CHINERYJEFFREYDOUGLAS  \n1               YANCHENG  \n2             ZHUHOUYUAN  ",
                        "text/html": "<div>\n<style scoped>\n    .dataframe tbody tr th:only-of-type {\n        vertical-align: middle;\n    }\n\n    .dataframe tbody tr th {\n        vertical-align: top;\n    }\n\n    .dataframe thead th {\n        text-align: right;\n    }\n</style>\n<table border=\"1\" class=\"dataframe\">\n  <thead>\n    <tr style=\"text-align: right;\">\n      <th></th>\n      <th>IsFFP</th>\n      <th>Operating_Carrier</th>\n      <th>Fare</th>\n      <th>Fuel</th>\n      <th>OC_Booking_Class_Actual</th>\n      <th>Passenger_Name</th>\n    </tr>\n  </thead>\n  <tbody>\n    <tr>\n      <th>0</th>\n      <td>0</td>\n      <td>DL</td>\n      <td>3472.01</td>\n      <td>0.0</td>\n      <td>Y</td>\n      <td>CHINERYJEFFREYDOUGLAS</td>\n    </tr>\n    <tr>\n      <th>1</th>\n      <td>0</td>\n      <td>DL</td>\n      <td>446.11</td>\n      <td>0.0</td>\n      <td>Y</td>\n      <td>YANCHENG</td>\n    </tr>\n    <tr>\n      <th>2</th>\n      <td>0</td>\n      <td>CZ</td>\n      <td>2850.00</td>\n      <td>1000.0</td>\n      <td>Y</td>\n      <td>ZHUHOUYUAN</td>\n    </tr>\n  </tbody>\n</table>\n</div>"
                    },
                    "metadata": {}
                }
            ]
        },
        {
            "metadata": {},
            "cell_type": "code",
            "source": "df_col = df_col.dropna()",
            "execution_count": 13,
            "outputs": []
        },
        {
            "metadata": {},
            "cell_type": "code",
            "source": "import pyspark\n\nfrom pyspark.sql import SparkSession\n\nimport pandas as pd\n\nspark = SparkSession.builder.appName('pandasToSparkDF').getOrCreate()\n\n",
            "execution_count": 14,
            "outputs": []
        },
        {
            "metadata": {},
            "cell_type": "code",
            "source": "from pyspark.sql.types import *\n\nmySchema = StructType([ StructField(\"IsFFP\", IntegerType(), True)\\\n\n                       ,StructField(\"Operating_Carrier\", StringType(), True)\\\n\n                       ,StructField(\"Fare\", DoubleType(), True)\\\n\n                       ,StructField(\"Fuel\", DoubleType(), True)\\\n\n                       ,StructField(\"OC_Booking_Class_Actual\", StringType(), True)\n                     \n                      ,StructField(\"Passenger_Name\", StringType(), True)])",
            "execution_count": 15,
            "outputs": []
        },
        {
            "metadata": {},
            "cell_type": "code",
            "source": "df_col = spark.createDataFrame(df_col,schema=mySchema)",
            "execution_count": 16,
            "outputs": []
        },
        {
            "metadata": {},
            "cell_type": "code",
            "source": "# from pyspark.sql import SQLContext\n# sc = SparkContext.getOrCreate()\n# sqlContext = SQLContext(sc)\n\n# df_col = sqlContext.createDataFrame(df_col)",
            "execution_count": 17,
            "outputs": []
        },
        {
            "metadata": {},
            "cell_type": "markdown",
            "source": "Since this is supervised learning, let\u2019s split our data into train (80%) and test (20%) set.\n"
        },
        {
            "metadata": {},
            "cell_type": "code",
            "source": "# from sklearn.model_selection import train_test_split",
            "execution_count": 18,
            "outputs": []
        },
        {
            "metadata": {},
            "cell_type": "code",
            "source": "# df_train, df_traintest = train_test_split(df_col, test_size=0.2, random_state=23)",
            "execution_count": 19,
            "outputs": []
        },
        {
            "metadata": {},
            "cell_type": "code",
            "source": "splits = df_col.randomSplit([0.8, 0.2])\ndf_train = splits[0]\ndf_test = splits[1]",
            "execution_count": 20,
            "outputs": []
        },
        {
            "metadata": {},
            "cell_type": "code",
            "source": "df_train.head(5)",
            "execution_count": 21,
            "outputs": [
                {
                    "output_type": "execute_result",
                    "execution_count": 21,
                    "data": {
                        "text/plain": "[Row(IsFFP=0, Operating_Carrier='  ', Fare=0.0, Fuel=0.0, OC_Booking_Class_Actual=' ', Passenger_Name='COHENDUMANISTEVEN'),\n Row(IsFFP=0, Operating_Carrier='  ', Fare=0.0, Fuel=0.0, OC_Booking_Class_Actual=' ', Passenger_Name='LIANGXIAOLONG'),\n Row(IsFFP=0, Operating_Carrier='  ', Fare=0.0, Fuel=0.0, OC_Booking_Class_Actual=' ', Passenger_Name='TONGPEIXIA'),\n Row(IsFFP=0, Operating_Carrier='  ', Fare=0.0, Fuel=0.0, OC_Booking_Class_Actual=' ', Passenger_Name='ZHANGGUOQUAN'),\n Row(IsFFP=0, Operating_Carrier='  ', Fare=0.0, Fuel=0.0, OC_Booking_Class_Actual=' ', Passenger_Name='ZHANGLINGWEI')]"
                    },
                    "metadata": {}
                }
            ]
        },
        {
            "metadata": {},
            "cell_type": "code",
            "source": "df_train.count()",
            "execution_count": 22,
            "outputs": [
                {
                    "output_type": "execute_result",
                    "execution_count": 22,
                    "data": {
                        "text/plain": "2399"
                    },
                    "metadata": {}
                }
            ]
        },
        {
            "metadata": {},
            "cell_type": "code",
            "source": "df_train.dtypes",
            "execution_count": 23,
            "outputs": [
                {
                    "output_type": "execute_result",
                    "execution_count": 23,
                    "data": {
                        "text/plain": "[('IsFFP', 'int'),\n ('Operating_Carrier', 'string'),\n ('Fare', 'double'),\n ('Fuel', 'double'),\n ('OC_Booking_Class_Actual', 'string'),\n ('Passenger_Name', 'string')]"
                    },
                    "metadata": {}
                }
            ]
        },
        {
            "metadata": {},
            "cell_type": "markdown",
            "source": "Again, we can re-use our feature engineering pipeline\n"
        },
        {
            "metadata": {},
            "cell_type": "code",
            "source": "from pyspark.ml.feature import StringIndexer, OneHotEncoder\nfrom pyspark.ml.linalg import Vectors\nfrom pyspark.ml.feature import VectorAssembler\nfrom pyspark.ml.feature import Normalizer\n\n\nindexer = StringIndexer(inputCol=\"OC_Booking_Class_Actual\", outputCol=\"label\")\n\nvectorAssembler = VectorAssembler(inputCols=['Fare','Fuel'],\n                                  outputCol=\"features\")\n\nnormalizer = Normalizer(inputCol=\"features\", outputCol=\"features_norm\", p=1.0)",
            "execution_count": 24,
            "outputs": []
        },
        {
            "metadata": {},
            "cell_type": "markdown",
            "source": "Now we use LogisticRegression, a simple and basic linear classifier to obtain a classification performance baseline.\n"
        },
        {
            "metadata": {},
            "cell_type": "code",
            "source": "from pyspark.ml.classification import LogisticRegression\nfrom pyspark.ml import Pipeline\n\nlr = LogisticRegression(maxIter=10, regParam=0.3, elasticNetParam=0.8)\n# pipeline = Pipeline(stages=[indexer, vectorAssembler, normalizer,lr])\npipeline = Pipeline(stages=[indexer,vectorAssembler,normalizer,lr])\n",
            "execution_count": 25,
            "outputs": []
        },
        {
            "metadata": {},
            "cell_type": "code",
            "source": "model = pipeline.fit(df_train)\nprediction = model.transform(df_test)",
            "execution_count": 26,
            "outputs": []
        },
        {
            "metadata": {},
            "cell_type": "code",
            "source": "def classification_metrics(prediction):\n    from pyspark.ml.evaluation import MulticlassClassificationEvaluator\n    mcEval = MulticlassClassificationEvaluator().setMetricName(\"accuracy\") .setPredictionCol(\"prediction\").setLabelCol(\"label\")\n    accuracy = mcEval.evaluate(prediction)\n    print(\"Accuracy on test data = %g\" % accuracy)",
            "execution_count": 27,
            "outputs": []
        },
        {
            "metadata": {},
            "cell_type": "code",
            "source": "classification_metrics(prediction)",
            "execution_count": 28,
            "outputs": [
                {
                    "output_type": "stream",
                    "text": "Accuracy on test data = 0.816054\n",
                    "name": "stdout"
                }
            ]
        },
        {
            "metadata": {},
            "cell_type": "markdown",
            "source": "If we look at the schema of the prediction dataframe we see that there is an additional column called prediction which contains the best guess for the class our model predicts.\n"
        },
        {
            "metadata": {},
            "cell_type": "code",
            "source": "prediction.printSchema()",
            "execution_count": 29,
            "outputs": [
                {
                    "output_type": "stream",
                    "text": "root\n |-- IsFFP: integer (nullable = true)\n |-- Operating_Carrier: string (nullable = true)\n |-- Fare: double (nullable = true)\n |-- Fuel: double (nullable = true)\n |-- OC_Booking_Class_Actual: string (nullable = true)\n |-- Passenger_Name: string (nullable = true)\n |-- label: double (nullable = false)\n |-- features: vector (nullable = true)\n |-- features_norm: vector (nullable = true)\n |-- rawPrediction: vector (nullable = true)\n |-- probability: vector (nullable = true)\n |-- prediction: double (nullable = false)\n\n",
                    "name": "stdout"
                }
            ]
        },
        {
            "metadata": {},
            "cell_type": "markdown",
            "source": "Let\u2019s evaluate performance by using a build-in functionality of Apache SparkML.\n"
        },
        {
            "metadata": {},
            "cell_type": "code",
            "source": "type(prediction)",
            "execution_count": 31,
            "outputs": [
                {
                    "output_type": "execute_result",
                    "execution_count": 31,
                    "data": {
                        "text/plain": "pyspark.sql.dataframe.DataFrame"
                    },
                    "metadata": {}
                }
            ]
        },
        {
            "metadata": {},
            "cell_type": "code",
            "source": "from pyspark.ml.evaluation import MulticlassClassificationEvaluator\nMulticlassClassificationEvaluator().setMetricName(\"accuracy\").evaluate(prediction)",
            "execution_count": 40,
            "outputs": [
                {
                    "output_type": "execute_result",
                    "execution_count": 40,
                    "data": {
                        "text/plain": "0.8311036789297659"
                    },
                    "metadata": {}
                }
            ]
        },
        {
            "metadata": {},
            "cell_type": "code",
            "source": "prediction",
            "execution_count": 33,
            "outputs": [
                {
                    "output_type": "execute_result",
                    "execution_count": 33,
                    "data": {
                        "text/plain": "DataFrame[IsFFP: int, Operating_Carrier: string, Fare: double, Fuel: double, OC_Booking_Class_Actual: string, Passenger_Name: string, label: double, features: vector, features_norm: vector, rawPrediction: vector, probability: vector, prediction: double]"
                    },
                    "metadata": {}
                }
            ]
        },
        {
            "metadata": {},
            "cell_type": "code",
            "source": "prediction_pd = prediction.toPandas()",
            "execution_count": 34,
            "outputs": []
        },
        {
            "metadata": {},
            "cell_type": "code",
            "source": "prediction_pd[ (prediction_pd['OC_Booking_Class_Actual']==\"Y\") & (prediction_pd['prediction'] > 0)]",
            "execution_count": 39,
            "outputs": [
                {
                    "output_type": "execute_result",
                    "execution_count": 39,
                    "data": {
                        "text/plain": "     IsFFP Operating_Carrier      Fare     Fuel OC_Booking_Class_Actual  \\\n131      0                CZ  15873.83  1456.88                       Y   \n132      0                CZ  16200.00  1000.00                       Y   \n145      0                DL  11381.75   687.03                       Y   \n483      0                CZ  10500.00  1000.00                       Y   \n516      0                KL  12053.69  1200.00                       Y   \n585      1                CZ   6250.02   650.00                       Y   \n590      1                CZ  19880.00   708.00                       Y   \n593      1                KL   9208.96     0.00                       Y   \n\n           Passenger_Name  label             features  \\\n131             ZHANGYONG    0.0  [15873.83, 1456.88]   \n132         JIANGZHUOYING    0.0    [16200.0, 1000.0]   \n145         ZHUANGDECHUAN    0.0   [11381.75, 687.03]   \n483            LIUXUEXIAN    0.0    [10500.0, 1000.0]   \n516  FERNANDEZGARCIAMAYTE    0.0   [12053.69, 1200.0]   \n585              KOUJIYUN    0.0     [6250.02, 650.0]   \n590               GAOYUAN    0.0     [19880.0, 708.0]   \n593            HUOBAOFENG    0.0       [9208.96, 0.0]   \n\n                                  features_norm  \\\n131   [0.9159365080830503, 0.08406349191694974]   \n132   [0.9418604651162791, 0.05813953488372093]   \n145  [0.9430737821055649, 0.056926217894435055]   \n483   [0.9130434782608695, 0.08695652173913043]   \n516   [0.9094591770291897, 0.09054082297081038]   \n585   [0.9057973745003638, 0.09420262549963623]   \n590  [0.9656110355546921, 0.034388964445307944]   \n593                                  [1.0, 0.0]   \n\n                                         rawPrediction  \\\n131  [11.526839853163183, 14.833301373190498, 2.297...   \n132  [5.25323389835004, 19.27352499628398, 3.454504...   \n145  [3.805802836847123, 19.778829210980103, 2.9948...   \n483  [5.25323389835004, 19.27352499628398, 3.454504...   \n516  [11.526839853163183, 14.833301373190498, 2.297...   \n585  [8.882363165931363, 18.337623000251075, 0.7439...   \n590  [10.194260298851304, 16.32027708039367, 1.9484...   \n593  [13.566924741924744, 0.9285617160617161, 0.0, ...   \n\n                                           probability  prediction  \n131  [0.3842279951054394, 0.49444337910634995, 0.07...         1.0  \n132  [0.175107796611668, 0.642450833209466, 0.11515...         1.0  \n145  [0.1268600945615708, 0.6592943070326702, 0.099...         1.0  \n483  [0.175107796611668, 0.642450833209466, 0.11515...         1.0  \n516  [0.3842279951054394, 0.49444337910634995, 0.07...         1.0  \n585  [0.2960787721977121, 0.6112541000083691, 0.024...         1.0  \n590  [0.3398086766283768, 0.5440092360131223, 0.064...         1.0  \n593  [0.45223082473082477, 0.0309520572020572, 0.0,...         4.0  ",
                        "text/html": "<div>\n<style scoped>\n    .dataframe tbody tr th:only-of-type {\n        vertical-align: middle;\n    }\n\n    .dataframe tbody tr th {\n        vertical-align: top;\n    }\n\n    .dataframe thead th {\n        text-align: right;\n    }\n</style>\n<table border=\"1\" class=\"dataframe\">\n  <thead>\n    <tr style=\"text-align: right;\">\n      <th></th>\n      <th>IsFFP</th>\n      <th>Operating_Carrier</th>\n      <th>Fare</th>\n      <th>Fuel</th>\n      <th>OC_Booking_Class_Actual</th>\n      <th>Passenger_Name</th>\n      <th>label</th>\n      <th>features</th>\n      <th>features_norm</th>\n      <th>rawPrediction</th>\n      <th>probability</th>\n      <th>prediction</th>\n    </tr>\n  </thead>\n  <tbody>\n    <tr>\n      <th>131</th>\n      <td>0</td>\n      <td>CZ</td>\n      <td>15873.83</td>\n      <td>1456.88</td>\n      <td>Y</td>\n      <td>ZHANGYONG</td>\n      <td>0.0</td>\n      <td>[15873.83, 1456.88]</td>\n      <td>[0.9159365080830503, 0.08406349191694974]</td>\n      <td>[11.526839853163183, 14.833301373190498, 2.297...</td>\n      <td>[0.3842279951054394, 0.49444337910634995, 0.07...</td>\n      <td>1.0</td>\n    </tr>\n    <tr>\n      <th>132</th>\n      <td>0</td>\n      <td>CZ</td>\n      <td>16200.00</td>\n      <td>1000.00</td>\n      <td>Y</td>\n      <td>JIANGZHUOYING</td>\n      <td>0.0</td>\n      <td>[16200.0, 1000.0]</td>\n      <td>[0.9418604651162791, 0.05813953488372093]</td>\n      <td>[5.25323389835004, 19.27352499628398, 3.454504...</td>\n      <td>[0.175107796611668, 0.642450833209466, 0.11515...</td>\n      <td>1.0</td>\n    </tr>\n    <tr>\n      <th>145</th>\n      <td>0</td>\n      <td>DL</td>\n      <td>11381.75</td>\n      <td>687.03</td>\n      <td>Y</td>\n      <td>ZHUANGDECHUAN</td>\n      <td>0.0</td>\n      <td>[11381.75, 687.03]</td>\n      <td>[0.9430737821055649, 0.056926217894435055]</td>\n      <td>[3.805802836847123, 19.778829210980103, 2.9948...</td>\n      <td>[0.1268600945615708, 0.6592943070326702, 0.099...</td>\n      <td>1.0</td>\n    </tr>\n    <tr>\n      <th>483</th>\n      <td>0</td>\n      <td>CZ</td>\n      <td>10500.00</td>\n      <td>1000.00</td>\n      <td>Y</td>\n      <td>LIUXUEXIAN</td>\n      <td>0.0</td>\n      <td>[10500.0, 1000.0]</td>\n      <td>[0.9130434782608695, 0.08695652173913043]</td>\n      <td>[5.25323389835004, 19.27352499628398, 3.454504...</td>\n      <td>[0.175107796611668, 0.642450833209466, 0.11515...</td>\n      <td>1.0</td>\n    </tr>\n    <tr>\n      <th>516</th>\n      <td>0</td>\n      <td>KL</td>\n      <td>12053.69</td>\n      <td>1200.00</td>\n      <td>Y</td>\n      <td>FERNANDEZGARCIAMAYTE</td>\n      <td>0.0</td>\n      <td>[12053.69, 1200.0]</td>\n      <td>[0.9094591770291897, 0.09054082297081038]</td>\n      <td>[11.526839853163183, 14.833301373190498, 2.297...</td>\n      <td>[0.3842279951054394, 0.49444337910634995, 0.07...</td>\n      <td>1.0</td>\n    </tr>\n    <tr>\n      <th>585</th>\n      <td>1</td>\n      <td>CZ</td>\n      <td>6250.02</td>\n      <td>650.00</td>\n      <td>Y</td>\n      <td>KOUJIYUN</td>\n      <td>0.0</td>\n      <td>[6250.02, 650.0]</td>\n      <td>[0.9057973745003638, 0.09420262549963623]</td>\n      <td>[8.882363165931363, 18.337623000251075, 0.7439...</td>\n      <td>[0.2960787721977121, 0.6112541000083691, 0.024...</td>\n      <td>1.0</td>\n    </tr>\n    <tr>\n      <th>590</th>\n      <td>1</td>\n      <td>CZ</td>\n      <td>19880.00</td>\n      <td>708.00</td>\n      <td>Y</td>\n      <td>GAOYUAN</td>\n      <td>0.0</td>\n      <td>[19880.0, 708.0]</td>\n      <td>[0.9656110355546921, 0.034388964445307944]</td>\n      <td>[10.194260298851304, 16.32027708039367, 1.9484...</td>\n      <td>[0.3398086766283768, 0.5440092360131223, 0.064...</td>\n      <td>1.0</td>\n    </tr>\n    <tr>\n      <th>593</th>\n      <td>1</td>\n      <td>KL</td>\n      <td>9208.96</td>\n      <td>0.00</td>\n      <td>Y</td>\n      <td>HUOBAOFENG</td>\n      <td>0.0</td>\n      <td>[9208.96, 0.0]</td>\n      <td>[1.0, 0.0]</td>\n      <td>[13.566924741924744, 0.9285617160617161, 0.0, ...</td>\n      <td>[0.45223082473082477, 0.0309520572020572, 0.0,...</td>\n      <td>4.0</td>\n    </tr>\n  </tbody>\n</table>\n</div>"
                    },
                    "metadata": {}
                }
            ]
        },
        {
            "metadata": {},
            "cell_type": "code",
            "source": "from pyspark.ml.classification import RandomForestClassifier\nrf = RandomForestClassifier(labelCol=\"label\", numTrees=30)\n\npipeline = Pipeline(stages=[indexer,vectorAssembler,normalizer,rf])\nmodel = pipeline.fit(df_train)\nprediction = model.transform(df_test)\nclassification_metrics(prediction)",
            "execution_count": 36,
            "outputs": [
                {
                    "output_type": "stream",
                    "text": "Accuracy on test data = 0.831104\n",
                    "name": "stdout"
                }
            ]
        },
        {
            "metadata": {},
            "cell_type": "code",
            "source": "prediction_pd = prediction.toPandas()",
            "execution_count": 37,
            "outputs": []
        },
        {
            "metadata": {},
            "cell_type": "code",
            "source": "prediction_pd[ (prediction_pd['OC_Booking_Class_Actual']==\"Y\") & (prediction_pd['prediction'] > 0)]",
            "execution_count": 38,
            "outputs": [
                {
                    "output_type": "execute_result",
                    "execution_count": 38,
                    "data": {
                        "text/plain": "     IsFFP Operating_Carrier      Fare     Fuel OC_Booking_Class_Actual  \\\n131      0                CZ  15873.83  1456.88                       Y   \n132      0                CZ  16200.00  1000.00                       Y   \n145      0                DL  11381.75   687.03                       Y   \n483      0                CZ  10500.00  1000.00                       Y   \n516      0                KL  12053.69  1200.00                       Y   \n585      1                CZ   6250.02   650.00                       Y   \n590      1                CZ  19880.00   708.00                       Y   \n593      1                KL   9208.96     0.00                       Y   \n\n           Passenger_Name  label             features  \\\n131             ZHANGYONG    0.0  [15873.83, 1456.88]   \n132         JIANGZHUOYING    0.0    [16200.0, 1000.0]   \n145         ZHUANGDECHUAN    0.0   [11381.75, 687.03]   \n483            LIUXUEXIAN    0.0    [10500.0, 1000.0]   \n516  FERNANDEZGARCIAMAYTE    0.0   [12053.69, 1200.0]   \n585              KOUJIYUN    0.0     [6250.02, 650.0]   \n590               GAOYUAN    0.0     [19880.0, 708.0]   \n593            HUOBAOFENG    0.0       [9208.96, 0.0]   \n\n                                  features_norm  \\\n131   [0.9159365080830503, 0.08406349191694974]   \n132   [0.9418604651162791, 0.05813953488372093]   \n145  [0.9430737821055649, 0.056926217894435055]   \n483   [0.9130434782608695, 0.08695652173913043]   \n516   [0.9094591770291897, 0.09054082297081038]   \n585   [0.9057973745003638, 0.09420262549963623]   \n590  [0.9656110355546921, 0.034388964445307944]   \n593                                  [1.0, 0.0]   \n\n                                         rawPrediction  \\\n131  [11.526839853163183, 14.833301373190498, 2.297...   \n132  [5.25323389835004, 19.27352499628398, 3.454504...   \n145  [3.805802836847123, 19.778829210980103, 2.9948...   \n483  [5.25323389835004, 19.27352499628398, 3.454504...   \n516  [11.526839853163183, 14.833301373190498, 2.297...   \n585  [8.882363165931363, 18.337623000251075, 0.7439...   \n590  [10.194260298851304, 16.32027708039367, 1.9484...   \n593  [13.566924741924744, 0.9285617160617161, 0.0, ...   \n\n                                           probability  prediction  \n131  [0.3842279951054394, 0.49444337910634995, 0.07...         1.0  \n132  [0.175107796611668, 0.642450833209466, 0.11515...         1.0  \n145  [0.1268600945615708, 0.6592943070326702, 0.099...         1.0  \n483  [0.175107796611668, 0.642450833209466, 0.11515...         1.0  \n516  [0.3842279951054394, 0.49444337910634995, 0.07...         1.0  \n585  [0.2960787721977121, 0.6112541000083691, 0.024...         1.0  \n590  [0.3398086766283768, 0.5440092360131223, 0.064...         1.0  \n593  [0.45223082473082477, 0.0309520572020572, 0.0,...         4.0  ",
                        "text/html": "<div>\n<style scoped>\n    .dataframe tbody tr th:only-of-type {\n        vertical-align: middle;\n    }\n\n    .dataframe tbody tr th {\n        vertical-align: top;\n    }\n\n    .dataframe thead th {\n        text-align: right;\n    }\n</style>\n<table border=\"1\" class=\"dataframe\">\n  <thead>\n    <tr style=\"text-align: right;\">\n      <th></th>\n      <th>IsFFP</th>\n      <th>Operating_Carrier</th>\n      <th>Fare</th>\n      <th>Fuel</th>\n      <th>OC_Booking_Class_Actual</th>\n      <th>Passenger_Name</th>\n      <th>label</th>\n      <th>features</th>\n      <th>features_norm</th>\n      <th>rawPrediction</th>\n      <th>probability</th>\n      <th>prediction</th>\n    </tr>\n  </thead>\n  <tbody>\n    <tr>\n      <th>131</th>\n      <td>0</td>\n      <td>CZ</td>\n      <td>15873.83</td>\n      <td>1456.88</td>\n      <td>Y</td>\n      <td>ZHANGYONG</td>\n      <td>0.0</td>\n      <td>[15873.83, 1456.88]</td>\n      <td>[0.9159365080830503, 0.08406349191694974]</td>\n      <td>[11.526839853163183, 14.833301373190498, 2.297...</td>\n      <td>[0.3842279951054394, 0.49444337910634995, 0.07...</td>\n      <td>1.0</td>\n    </tr>\n    <tr>\n      <th>132</th>\n      <td>0</td>\n      <td>CZ</td>\n      <td>16200.00</td>\n      <td>1000.00</td>\n      <td>Y</td>\n      <td>JIANGZHUOYING</td>\n      <td>0.0</td>\n      <td>[16200.0, 1000.0]</td>\n      <td>[0.9418604651162791, 0.05813953488372093]</td>\n      <td>[5.25323389835004, 19.27352499628398, 3.454504...</td>\n      <td>[0.175107796611668, 0.642450833209466, 0.11515...</td>\n      <td>1.0</td>\n    </tr>\n    <tr>\n      <th>145</th>\n      <td>0</td>\n      <td>DL</td>\n      <td>11381.75</td>\n      <td>687.03</td>\n      <td>Y</td>\n      <td>ZHUANGDECHUAN</td>\n      <td>0.0</td>\n      <td>[11381.75, 687.03]</td>\n      <td>[0.9430737821055649, 0.056926217894435055]</td>\n      <td>[3.805802836847123, 19.778829210980103, 2.9948...</td>\n      <td>[0.1268600945615708, 0.6592943070326702, 0.099...</td>\n      <td>1.0</td>\n    </tr>\n    <tr>\n      <th>483</th>\n      <td>0</td>\n      <td>CZ</td>\n      <td>10500.00</td>\n      <td>1000.00</td>\n      <td>Y</td>\n      <td>LIUXUEXIAN</td>\n      <td>0.0</td>\n      <td>[10500.0, 1000.0]</td>\n      <td>[0.9130434782608695, 0.08695652173913043]</td>\n      <td>[5.25323389835004, 19.27352499628398, 3.454504...</td>\n      <td>[0.175107796611668, 0.642450833209466, 0.11515...</td>\n      <td>1.0</td>\n    </tr>\n    <tr>\n      <th>516</th>\n      <td>0</td>\n      <td>KL</td>\n      <td>12053.69</td>\n      <td>1200.00</td>\n      <td>Y</td>\n      <td>FERNANDEZGARCIAMAYTE</td>\n      <td>0.0</td>\n      <td>[12053.69, 1200.0]</td>\n      <td>[0.9094591770291897, 0.09054082297081038]</td>\n      <td>[11.526839853163183, 14.833301373190498, 2.297...</td>\n      <td>[0.3842279951054394, 0.49444337910634995, 0.07...</td>\n      <td>1.0</td>\n    </tr>\n    <tr>\n      <th>585</th>\n      <td>1</td>\n      <td>CZ</td>\n      <td>6250.02</td>\n      <td>650.00</td>\n      <td>Y</td>\n      <td>KOUJIYUN</td>\n      <td>0.0</td>\n      <td>[6250.02, 650.0]</td>\n      <td>[0.9057973745003638, 0.09420262549963623]</td>\n      <td>[8.882363165931363, 18.337623000251075, 0.7439...</td>\n      <td>[0.2960787721977121, 0.6112541000083691, 0.024...</td>\n      <td>1.0</td>\n    </tr>\n    <tr>\n      <th>590</th>\n      <td>1</td>\n      <td>CZ</td>\n      <td>19880.00</td>\n      <td>708.00</td>\n      <td>Y</td>\n      <td>GAOYUAN</td>\n      <td>0.0</td>\n      <td>[19880.0, 708.0]</td>\n      <td>[0.9656110355546921, 0.034388964445307944]</td>\n      <td>[10.194260298851304, 16.32027708039367, 1.9484...</td>\n      <td>[0.3398086766283768, 0.5440092360131223, 0.064...</td>\n      <td>1.0</td>\n    </tr>\n    <tr>\n      <th>593</th>\n      <td>1</td>\n      <td>KL</td>\n      <td>9208.96</td>\n      <td>0.00</td>\n      <td>Y</td>\n      <td>HUOBAOFENG</td>\n      <td>0.0</td>\n      <td>[9208.96, 0.0]</td>\n      <td>[1.0, 0.0]</td>\n      <td>[13.566924741924744, 0.9285617160617161, 0.0, ...</td>\n      <td>[0.45223082473082477, 0.0309520572020572, 0.0,...</td>\n      <td>4.0</td>\n    </tr>\n  </tbody>\n</table>\n</div>"
                    },
                    "metadata": {}
                }
            ]
        }
    ],
    "metadata": {
        "kernelspec": {
            "name": "python3",
            "display_name": "Python 3.6",
            "language": "python"
        },
        "language_info": {
            "name": "python",
            "version": "3.6.9",
            "mimetype": "text/x-python",
            "codemirror_mode": {
                "name": "ipython",
                "version": 3
            },
            "pygments_lexer": "ipython3",
            "nbconvert_exporter": "python",
            "file_extension": ".py"
        },
        "toc": {
            "base_numbering": 1,
            "nav_menu": {},
            "number_sections": true,
            "sideBar": true,
            "skip_h1_title": false,
            "title_cell": "Table of Contents",
            "title_sidebar": "Contents",
            "toc_cell": false,
            "toc_position": {},
            "toc_section_display": true,
            "toc_window_display": false
        }
    },
    "nbformat": 4,
    "nbformat_minor": 1
}